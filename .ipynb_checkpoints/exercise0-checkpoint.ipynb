{
 "cells": [
  {
   "cell_type": "code",
   "execution_count": 2,
   "id": "ce8d98e0-d3e8-4954-9ee6-cc652926c1c5",
   "metadata": {},
   "outputs": [
    {
     "name": "stdout",
     "output_type": "stream",
     "text": [
      "90.70294784580499\n"
     ]
    }
   ],
   "source": [
    "pounds = 2.205\n",
    "kilogramm = 200 / pounds\n",
    "print(kilogramm)"
   ]
  },
  {
   "cell_type": "code",
   "execution_count": 4,
   "id": "9d445d04-ada5-407e-8ef3-55d93f582a70",
   "metadata": {},
   "outputs": [
    {
     "ename": "ValueError",
     "evalue": "could not convert string to float: 'Hallo'",
     "output_type": "error",
     "traceback": [
      "\u001b[1;31m---------------------------------------------------------------------------\u001b[0m",
      "\u001b[1;31mValueError\u001b[0m                                Traceback (most recent call last)",
      "Cell \u001b[1;32mIn[4], line 2\u001b[0m\n\u001b[0;32m      1\u001b[0m x \u001b[38;5;241m=\u001b[39m \u001b[38;5;124m\"\u001b[39m\u001b[38;5;124mHallo\u001b[39m\u001b[38;5;124m\"\u001b[39m\n\u001b[1;32m----> 2\u001b[0m \u001b[38;5;28mfloat\u001b[39m(x)\n",
      "\u001b[1;31mValueError\u001b[0m: could not convert string to float: 'Hallo'"
     ]
    }
   ],
   "source": [
    "x = \"Hallo\"\n",
    "float(x)"
   ]
  },
  {
   "cell_type": "code",
   "execution_count": 6,
   "id": "884bf190-0855-4e7d-9cde-b320f267595a",
   "metadata": {},
   "outputs": [
    {
     "data": {
      "text/plain": [
       "3.999"
      ]
     },
     "execution_count": 6,
     "metadata": {},
     "output_type": "execute_result"
    }
   ],
   "source": [
    "y = \"3.999\"\n",
    "float(y)"
   ]
  },
  {
   "cell_type": "code",
   "execution_count": 8,
   "id": "3300fb42-571f-4f1b-a40e-2a1ddf8fbbbb",
   "metadata": {},
   "outputs": [
    {
     "data": {
      "text/plain": [
       "3.0"
      ]
     },
     "execution_count": 8,
     "metadata": {},
     "output_type": "execute_result"
    }
   ],
   "source": [
    "z = 3\n",
    "float(z)"
   ]
  },
  {
   "cell_type": "code",
   "execution_count": 9,
   "id": "66ccaa85-8a68-4111-af7c-be69b2ad3a55",
   "metadata": {},
   "outputs": [
    {
     "data": {
      "text/plain": [
       "3"
      ]
     },
     "execution_count": 9,
     "metadata": {},
     "output_type": "execute_result"
    }
   ],
   "source": [
    "u = 3.5\n",
    "int(u)"
   ]
  },
  {
   "cell_type": "code",
   "execution_count": 10,
   "id": "d4003f6c-736a-4a99-b4af-aae3e4c5f006",
   "metadata": {},
   "outputs": [
    {
     "data": {
      "text/plain": [
       "'3.5'"
      ]
     },
     "execution_count": 10,
     "metadata": {},
     "output_type": "execute_result"
    }
   ],
   "source": [
    "p = 3.5\n",
    "str(p)"
   ]
  },
  {
   "cell_type": "code",
   "execution_count": 12,
   "id": "5e38f2b0-6406-489b-89ca-fd5111c392fd",
   "metadata": {},
   "outputs": [
    {
     "data": {
      "text/plain": [
       "100"
      ]
     },
     "execution_count": 12,
     "metadata": {},
     "output_type": "execute_result"
    }
   ],
   "source": [
    "(2*5)**(1+1)"
   ]
  },
  {
   "cell_type": "code",
   "execution_count": 13,
   "id": "ebcca096-b4eb-4191-8cc6-8a9e6c2b8cca",
   "metadata": {},
   "outputs": [
    {
     "data": {
      "text/plain": [
       "81"
      ]
     },
     "execution_count": 13,
     "metadata": {},
     "output_type": "execute_result"
    }
   ],
   "source": [
    "3**2**2"
   ]
  },
  {
   "cell_type": "code",
   "execution_count": 14,
   "id": "ceb9eb28-a796-469d-9625-bb55ff96ba28",
   "metadata": {},
   "outputs": [
    {
     "data": {
      "text/plain": [
       "0.01"
      ]
     },
     "execution_count": 14,
     "metadata": {},
     "output_type": "execute_result"
    }
   ],
   "source": [
    "1/((2*5)**(1+1))"
   ]
  },
  {
   "cell_type": "code",
   "execution_count": 15,
   "id": "d999eff1-92b3-4289-bcbe-ed2440338cb2",
   "metadata": {},
   "outputs": [
    {
     "data": {
      "text/plain": [
       "0.01"
      ]
     },
     "execution_count": 15,
     "metadata": {},
     "output_type": "execute_result"
    }
   ],
   "source": [
    "1/(2*5)**(1+1)"
   ]
  },
  {
   "cell_type": "code",
   "execution_count": 19,
   "id": "ee2d6ec2-6b65-4f9d-8aa8-11d65ce12213",
   "metadata": {},
   "outputs": [
    {
     "name": "stdout",
     "output_type": "stream",
     "text": [
      "134.39163793441222\n"
     ]
    }
   ],
   "source": [
    "P = 100\n",
    "i = 0.03\n",
    "t = 10\n",
    "A = P * (1 + i) ** t\n",
    "print(A)"
   ]
  },
  {
   "cell_type": "code",
   "execution_count": 23,
   "id": "48dbcc28-318a-470f-a2b4-79b1a832af7f",
   "metadata": {},
   "outputs": [
    {
     "name": "stdout",
     "output_type": "stream",
     "text": [
      "2.7182792426663553\n"
     ]
    }
   ],
   "source": [
    "P = 1\n",
    "i = 1.0\n",
    "t = 1\n",
    "n = 60 * 24 * 365\n",
    "A= P * (1 + i / n) ** (n * t)\n",
    "print(A)"
   ]
  },
  {
   "cell_type": "code",
   "execution_count": 28,
   "id": "e6a1dbf9-1dfd-4b89-9ef5-5997ae1fc188",
   "metadata": {},
   "outputs": [],
   "source": [
    "from math import exp"
   ]
  },
  {
   "cell_type": "code",
   "execution_count": 32,
   "id": "2a0fa736-9863-416e-aba7-05bb4124165f",
   "metadata": {},
   "outputs": [
    {
     "data": {
      "text/plain": [
       "2.718281828459045"
      ]
     },
     "execution_count": 32,
     "metadata": {},
     "output_type": "execute_result"
    }
   ],
   "source": [
    "exp(1)\n"
   ]
  },
  {
   "cell_type": "code",
   "execution_count": 33,
   "id": "64a80679-0d3e-45e3-a714-034d6f27f9fd",
   "metadata": {},
   "outputs": [
    {
     "data": {
      "text/plain": [
       "7.3890560989306495"
      ]
     },
     "execution_count": 33,
     "metadata": {},
     "output_type": "execute_result"
    }
   ],
   "source": [
    "zahl = exp(1)\n",
    "zahl * zahl"
   ]
  },
  {
   "cell_type": "code",
   "execution_count": 37,
   "id": "c6fb163b-c27f-44df-953a-ade1318280ef",
   "metadata": {},
   "outputs": [],
   "source": [
    "from math import pi"
   ]
  },
  {
   "cell_type": "code",
   "execution_count": 40,
   "id": "9ae535de-137b-4f1e-a066-938077ecbbaf",
   "metadata": {},
   "outputs": [
    {
     "data": {
      "text/plain": [
       "3.141592653589793"
      ]
     },
     "execution_count": 40,
     "metadata": {},
     "output_type": "execute_result"
    }
   ],
   "source": [
    "pi"
   ]
  },
  {
   "cell_type": "code",
   "execution_count": 44,
   "id": "2ea22e23-e7d3-41f0-b0e3-96f039aa8a1b",
   "metadata": {},
   "outputs": [
    {
     "name": "stdout",
     "output_type": "stream",
     "text": [
      "3.141592653589793\n"
     ]
    }
   ],
   "source": [
    "r = 1\n",
    "F = pi * r **2\n",
    "print(F)"
   ]
  },
  {
   "cell_type": "code",
   "execution_count": 51,
   "id": "770a8858-8f32-456d-8b58-8a6a91bde544",
   "metadata": {},
   "outputs": [
    {
     "name": "stdout",
     "output_type": "stream",
     "text": [
      "2.718281828459045\n"
     ]
    }
   ],
   "source": [
    "P = 1 \n",
    "t = 1\n",
    "i = 1\n",
    "A = P*exp(1)**(i*t)\n",
    "print (A)"
   ]
  },
  {
   "cell_type": "code",
   "execution_count": null,
   "id": "22bda478-934c-4eb4-ad5b-b7d6ae9d7a22",
   "metadata": {},
   "outputs": [],
   "source": []
  }
 ],
 "metadata": {
  "kernelspec": {
   "display_name": "Python 3 (ipykernel)",
   "language": "python",
   "name": "python3"
  },
  "language_info": {
   "codemirror_mode": {
    "name": "ipython",
    "version": 3
   },
   "file_extension": ".py",
   "mimetype": "text/x-python",
   "name": "python",
   "nbconvert_exporter": "python",
   "pygments_lexer": "ipython3",
   "version": "3.11.11"
  }
 },
 "nbformat": 4,
 "nbformat_minor": 5
}
